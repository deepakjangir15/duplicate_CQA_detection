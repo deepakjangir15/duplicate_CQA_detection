{
  "nbformat": 4,
  "nbformat_minor": 0,
  "metadata": {
    "colab": {
      "provenance": [],
      "machine_shape": "hm",
      "gpuType": "A100",
      "mount_file_id": "1zaCJXk9hpUa_s0nE48XimmMoUznyLfcw",
      "authorship_tag": "ABX9TyN2/kk3Jgxj0FbsL2gU7n8t",
      "include_colab_link": true
    },
    "kernelspec": {
      "name": "python3",
      "display_name": "Python 3"
    },
    "language_info": {
      "name": "python"
    },
    "accelerator": "GPU",
    "gpuClass": "standard"
  },
  "cells": [
    {
      "cell_type": "markdown",
      "metadata": {
        "id": "view-in-github",
        "colab_type": "text"
      },
      "source": [
        "<a href=\"https://colab.research.google.com/github/deepakjangir15/duplicate_CQA_detection/blob/main/Expermenting_Neural_Network_Models.ipynb\" target=\"_parent\"><img src=\"https://colab.research.google.com/assets/colab-badge.svg\" alt=\"Open In Colab\"/></a>"
      ]
    },
    {
      "cell_type": "code",
      "execution_count": 1,
      "metadata": {
        "colab": {
          "base_uri": "https://localhost:8080/",
          "height": 35
        },
        "id": "fDwQLOoVhzk-",
        "outputId": "4aaeeb2b-9432-4180-a2b4-e7b2a899a67e"
      },
      "outputs": [
        {
          "output_type": "execute_result",
          "data": {
            "text/plain": [
              "'/content/drive/MyDrive/unzipped/glove.6B.200d.txt'"
            ],
            "application/vnd.google.colaboratory.intrinsic+json": {
              "type": "string"
            }
          },
          "metadata": {},
          "execution_count": 1
        }
      ],
      "source": [
        "'/content/drive/MyDrive/unzipped/glove.6B.200d.txt'"
      ]
    },
    {
      "cell_type": "code",
      "source": [
        "import pandas as pd\n",
        "\n",
        "df = pd.read_pickle('/content/drive/MyDrive/unzipped/checkpoint6.pkl')"
      ],
      "metadata": {
        "id": "LAuvS1EPixBO"
      },
      "execution_count": 2,
      "outputs": []
    },
    {
      "cell_type": "code",
      "source": [
        "df.head()"
      ],
      "metadata": {
        "colab": {
          "base_uri": "https://localhost:8080/",
          "height": 652
        },
        "id": "DBKhwQwhiz8A",
        "outputId": "03086a17-4ce6-4d0e-e060-1d20db5d61c4"
      },
      "execution_count": 17,
      "outputs": [
        {
          "output_type": "execute_result",
          "data": {
            "text/plain": [
              "                                           question1  \\\n",
              "0  Self-references in object literals / initializ...   \n",
              "1  Ubuntu and Ruby version ruby ubuntu version bu...   \n",
              "2  Printing from a Windows Service c# printing wi...   \n",
              "3  Can a file be opened simultaneously under SIlv...   \n",
              "4  Nested foreach in PHP produces different resul...   \n",
              "\n",
              "                                           question2  is_duplicate  \\\n",
              "0  reference variable in object literal? javascri...             1   \n",
              "1  Installing RVM (Ruby Version Manager) ruby som...             1   \n",
              "2  Printing from a .NET Service c# .net windows-s...             1   \n",
              "3  issue reading in data c++ fstream trouble read...             0   \n",
              "4  Renaming project directory in VS 2010 visual-s...             0   \n",
              "\n",
              "   common_words_min  common_words_max  common_stop_min  common_stop_max  \\\n",
              "0          0.428569          0.321427          0.99990         0.999900   \n",
              "1          0.181817          0.044444          0.00000         0.000000   \n",
              "2          0.349998          0.155555          0.99995         0.999950   \n",
              "3          0.076923          0.054054          0.00000         0.000000   \n",
              "4          0.047619          0.031250          0.99990         0.499975   \n",
              "\n",
              "   common_token_min  common_token_max  last_word_equal  first_word_equal  \n",
              "0          0.303029          0.263157              0.0               0.0  \n",
              "1          0.111110          0.038461              0.0               0.0  \n",
              "2          0.409089          0.176470              0.0               1.0  \n",
              "3          0.052631          0.038461              0.0               0.0  \n",
              "4          0.068965          0.038461              0.0               0.0  "
            ],
            "text/html": [
              "\n",
              "  <div id=\"df-5c766b05-3eca-4656-b05d-bad2af10e604\">\n",
              "    <div class=\"colab-df-container\">\n",
              "      <div>\n",
              "<style scoped>\n",
              "    .dataframe tbody tr th:only-of-type {\n",
              "        vertical-align: middle;\n",
              "    }\n",
              "\n",
              "    .dataframe tbody tr th {\n",
              "        vertical-align: top;\n",
              "    }\n",
              "\n",
              "    .dataframe thead th {\n",
              "        text-align: right;\n",
              "    }\n",
              "</style>\n",
              "<table border=\"1\" class=\"dataframe\">\n",
              "  <thead>\n",
              "    <tr style=\"text-align: right;\">\n",
              "      <th></th>\n",
              "      <th>question1</th>\n",
              "      <th>question2</th>\n",
              "      <th>is_duplicate</th>\n",
              "      <th>common_words_min</th>\n",
              "      <th>common_words_max</th>\n",
              "      <th>common_stop_min</th>\n",
              "      <th>common_stop_max</th>\n",
              "      <th>common_token_min</th>\n",
              "      <th>common_token_max</th>\n",
              "      <th>last_word_equal</th>\n",
              "      <th>first_word_equal</th>\n",
              "    </tr>\n",
              "  </thead>\n",
              "  <tbody>\n",
              "    <tr>\n",
              "      <th>0</th>\n",
              "      <td>Self-references in object literals / initializ...</td>\n",
              "      <td>reference variable in object literal? javascri...</td>\n",
              "      <td>1</td>\n",
              "      <td>0.428569</td>\n",
              "      <td>0.321427</td>\n",
              "      <td>0.99990</td>\n",
              "      <td>0.999900</td>\n",
              "      <td>0.303029</td>\n",
              "      <td>0.263157</td>\n",
              "      <td>0.0</td>\n",
              "      <td>0.0</td>\n",
              "    </tr>\n",
              "    <tr>\n",
              "      <th>1</th>\n",
              "      <td>Ubuntu and Ruby version ruby ubuntu version bu...</td>\n",
              "      <td>Installing RVM (Ruby Version Manager) ruby som...</td>\n",
              "      <td>1</td>\n",
              "      <td>0.181817</td>\n",
              "      <td>0.044444</td>\n",
              "      <td>0.00000</td>\n",
              "      <td>0.000000</td>\n",
              "      <td>0.111110</td>\n",
              "      <td>0.038461</td>\n",
              "      <td>0.0</td>\n",
              "      <td>0.0</td>\n",
              "    </tr>\n",
              "    <tr>\n",
              "      <th>2</th>\n",
              "      <td>Printing from a Windows Service c# printing wi...</td>\n",
              "      <td>Printing from a .NET Service c# .net windows-s...</td>\n",
              "      <td>1</td>\n",
              "      <td>0.349998</td>\n",
              "      <td>0.155555</td>\n",
              "      <td>0.99995</td>\n",
              "      <td>0.999950</td>\n",
              "      <td>0.409089</td>\n",
              "      <td>0.176470</td>\n",
              "      <td>0.0</td>\n",
              "      <td>1.0</td>\n",
              "    </tr>\n",
              "    <tr>\n",
              "      <th>3</th>\n",
              "      <td>Can a file be opened simultaneously under SIlv...</td>\n",
              "      <td>issue reading in data c++ fstream trouble read...</td>\n",
              "      <td>0</td>\n",
              "      <td>0.076923</td>\n",
              "      <td>0.054054</td>\n",
              "      <td>0.00000</td>\n",
              "      <td>0.000000</td>\n",
              "      <td>0.052631</td>\n",
              "      <td>0.038461</td>\n",
              "      <td>0.0</td>\n",
              "      <td>0.0</td>\n",
              "    </tr>\n",
              "    <tr>\n",
              "      <th>4</th>\n",
              "      <td>Nested foreach in PHP produces different resul...</td>\n",
              "      <td>Renaming project directory in VS 2010 visual-s...</td>\n",
              "      <td>0</td>\n",
              "      <td>0.047619</td>\n",
              "      <td>0.031250</td>\n",
              "      <td>0.99990</td>\n",
              "      <td>0.499975</td>\n",
              "      <td>0.068965</td>\n",
              "      <td>0.038461</td>\n",
              "      <td>0.0</td>\n",
              "      <td>0.0</td>\n",
              "    </tr>\n",
              "  </tbody>\n",
              "</table>\n",
              "</div>\n",
              "      <button class=\"colab-df-convert\" onclick=\"convertToInteractive('df-5c766b05-3eca-4656-b05d-bad2af10e604')\"\n",
              "              title=\"Convert this dataframe to an interactive table.\"\n",
              "              style=\"display:none;\">\n",
              "        \n",
              "  <svg xmlns=\"http://www.w3.org/2000/svg\" height=\"24px\"viewBox=\"0 0 24 24\"\n",
              "       width=\"24px\">\n",
              "    <path d=\"M0 0h24v24H0V0z\" fill=\"none\"/>\n",
              "    <path d=\"M18.56 5.44l.94 2.06.94-2.06 2.06-.94-2.06-.94-.94-2.06-.94 2.06-2.06.94zm-11 1L8.5 8.5l.94-2.06 2.06-.94-2.06-.94L8.5 2.5l-.94 2.06-2.06.94zm10 10l.94 2.06.94-2.06 2.06-.94-2.06-.94-.94-2.06-.94 2.06-2.06.94z\"/><path d=\"M17.41 7.96l-1.37-1.37c-.4-.4-.92-.59-1.43-.59-.52 0-1.04.2-1.43.59L10.3 9.45l-7.72 7.72c-.78.78-.78 2.05 0 2.83L4 21.41c.39.39.9.59 1.41.59.51 0 1.02-.2 1.41-.59l7.78-7.78 2.81-2.81c.8-.78.8-2.07 0-2.86zM5.41 20L4 18.59l7.72-7.72 1.47 1.35L5.41 20z\"/>\n",
              "  </svg>\n",
              "      </button>\n",
              "      \n",
              "  <style>\n",
              "    .colab-df-container {\n",
              "      display:flex;\n",
              "      flex-wrap:wrap;\n",
              "      gap: 12px;\n",
              "    }\n",
              "\n",
              "    .colab-df-convert {\n",
              "      background-color: #E8F0FE;\n",
              "      border: none;\n",
              "      border-radius: 50%;\n",
              "      cursor: pointer;\n",
              "      display: none;\n",
              "      fill: #1967D2;\n",
              "      height: 32px;\n",
              "      padding: 0 0 0 0;\n",
              "      width: 32px;\n",
              "    }\n",
              "\n",
              "    .colab-df-convert:hover {\n",
              "      background-color: #E2EBFA;\n",
              "      box-shadow: 0px 1px 2px rgba(60, 64, 67, 0.3), 0px 1px 3px 1px rgba(60, 64, 67, 0.15);\n",
              "      fill: #174EA6;\n",
              "    }\n",
              "\n",
              "    [theme=dark] .colab-df-convert {\n",
              "      background-color: #3B4455;\n",
              "      fill: #D2E3FC;\n",
              "    }\n",
              "\n",
              "    [theme=dark] .colab-df-convert:hover {\n",
              "      background-color: #434B5C;\n",
              "      box-shadow: 0px 1px 3px 1px rgba(0, 0, 0, 0.15);\n",
              "      filter: drop-shadow(0px 1px 2px rgba(0, 0, 0, 0.3));\n",
              "      fill: #FFFFFF;\n",
              "    }\n",
              "  </style>\n",
              "\n",
              "      <script>\n",
              "        const buttonEl =\n",
              "          document.querySelector('#df-5c766b05-3eca-4656-b05d-bad2af10e604 button.colab-df-convert');\n",
              "        buttonEl.style.display =\n",
              "          google.colab.kernel.accessAllowed ? 'block' : 'none';\n",
              "\n",
              "        async function convertToInteractive(key) {\n",
              "          const element = document.querySelector('#df-5c766b05-3eca-4656-b05d-bad2af10e604');\n",
              "          const dataTable =\n",
              "            await google.colab.kernel.invokeFunction('convertToInteractive',\n",
              "                                                     [key], {});\n",
              "          if (!dataTable) return;\n",
              "\n",
              "          const docLinkHtml = 'Like what you see? Visit the ' +\n",
              "            '<a target=\"_blank\" href=https://colab.research.google.com/notebooks/data_table.ipynb>data table notebook</a>'\n",
              "            + ' to learn more about interactive tables.';\n",
              "          element.innerHTML = '';\n",
              "          dataTable['output_type'] = 'display_data';\n",
              "          await google.colab.output.renderOutput(dataTable, element);\n",
              "          const docLink = document.createElement('div');\n",
              "          docLink.innerHTML = docLinkHtml;\n",
              "          element.appendChild(docLink);\n",
              "        }\n",
              "      </script>\n",
              "    </div>\n",
              "  </div>\n",
              "  "
            ]
          },
          "metadata": {},
          "execution_count": 17
        }
      ]
    },
    {
      "cell_type": "code",
      "source": [
        "df.info()"
      ],
      "metadata": {
        "colab": {
          "base_uri": "https://localhost:8080/"
        },
        "id": "tFhqTMqwjAWD",
        "outputId": "e65e132e-96a7-47a2-eb80-9dd7cf0687ec"
      },
      "execution_count": 18,
      "outputs": [
        {
          "output_type": "stream",
          "name": "stdout",
          "text": [
            "<class 'pandas.core.frame.DataFrame'>\n",
            "RangeIndex: 398526 entries, 0 to 398525\n",
            "Data columns (total 11 columns):\n",
            " #   Column            Non-Null Count   Dtype  \n",
            "---  ------            --------------   -----  \n",
            " 0   question1         398526 non-null  object \n",
            " 1   question2         398526 non-null  object \n",
            " 2   is_duplicate      398526 non-null  int64  \n",
            " 3   common_words_min  398526 non-null  float64\n",
            " 4   common_words_max  398526 non-null  float64\n",
            " 5   common_stop_min   398526 non-null  float64\n",
            " 6   common_stop_max   398526 non-null  float64\n",
            " 7   common_token_min  398526 non-null  float64\n",
            " 8   common_token_max  398526 non-null  float64\n",
            " 9   last_word_equal   398526 non-null  float64\n",
            " 10  first_word_equal  398526 non-null  float64\n",
            "dtypes: float64(8), int64(1), object(2)\n",
            "memory usage: 33.4+ MB\n"
          ]
        }
      ]
    },
    {
      "cell_type": "code",
      "source": [
        "df.head()"
      ],
      "metadata": {
        "colab": {
          "base_uri": "https://localhost:8080/",
          "height": 652
        },
        "id": "FyUUVAKIjNVH",
        "outputId": "1bad2f4b-558b-4f28-a01a-573633ed89d2"
      },
      "execution_count": 19,
      "outputs": [
        {
          "output_type": "execute_result",
          "data": {
            "text/plain": [
              "                                           question1  \\\n",
              "0  Self-references in object literals / initializ...   \n",
              "1  Ubuntu and Ruby version ruby ubuntu version bu...   \n",
              "2  Printing from a Windows Service c# printing wi...   \n",
              "3  Can a file be opened simultaneously under SIlv...   \n",
              "4  Nested foreach in PHP produces different resul...   \n",
              "\n",
              "                                           question2  is_duplicate  \\\n",
              "0  reference variable in object literal? javascri...             1   \n",
              "1  Installing RVM (Ruby Version Manager) ruby som...             1   \n",
              "2  Printing from a .NET Service c# .net windows-s...             1   \n",
              "3  issue reading in data c++ fstream trouble read...             0   \n",
              "4  Renaming project directory in VS 2010 visual-s...             0   \n",
              "\n",
              "   common_words_min  common_words_max  common_stop_min  common_stop_max  \\\n",
              "0          0.428569          0.321427          0.99990         0.999900   \n",
              "1          0.181817          0.044444          0.00000         0.000000   \n",
              "2          0.349998          0.155555          0.99995         0.999950   \n",
              "3          0.076923          0.054054          0.00000         0.000000   \n",
              "4          0.047619          0.031250          0.99990         0.499975   \n",
              "\n",
              "   common_token_min  common_token_max  last_word_equal  first_word_equal  \n",
              "0          0.303029          0.263157              0.0               0.0  \n",
              "1          0.111110          0.038461              0.0               0.0  \n",
              "2          0.409089          0.176470              0.0               1.0  \n",
              "3          0.052631          0.038461              0.0               0.0  \n",
              "4          0.068965          0.038461              0.0               0.0  "
            ],
            "text/html": [
              "\n",
              "  <div id=\"df-21b61e3d-40e3-4d17-99e8-33ee24298ed7\">\n",
              "    <div class=\"colab-df-container\">\n",
              "      <div>\n",
              "<style scoped>\n",
              "    .dataframe tbody tr th:only-of-type {\n",
              "        vertical-align: middle;\n",
              "    }\n",
              "\n",
              "    .dataframe tbody tr th {\n",
              "        vertical-align: top;\n",
              "    }\n",
              "\n",
              "    .dataframe thead th {\n",
              "        text-align: right;\n",
              "    }\n",
              "</style>\n",
              "<table border=\"1\" class=\"dataframe\">\n",
              "  <thead>\n",
              "    <tr style=\"text-align: right;\">\n",
              "      <th></th>\n",
              "      <th>question1</th>\n",
              "      <th>question2</th>\n",
              "      <th>is_duplicate</th>\n",
              "      <th>common_words_min</th>\n",
              "      <th>common_words_max</th>\n",
              "      <th>common_stop_min</th>\n",
              "      <th>common_stop_max</th>\n",
              "      <th>common_token_min</th>\n",
              "      <th>common_token_max</th>\n",
              "      <th>last_word_equal</th>\n",
              "      <th>first_word_equal</th>\n",
              "    </tr>\n",
              "  </thead>\n",
              "  <tbody>\n",
              "    <tr>\n",
              "      <th>0</th>\n",
              "      <td>Self-references in object literals / initializ...</td>\n",
              "      <td>reference variable in object literal? javascri...</td>\n",
              "      <td>1</td>\n",
              "      <td>0.428569</td>\n",
              "      <td>0.321427</td>\n",
              "      <td>0.99990</td>\n",
              "      <td>0.999900</td>\n",
              "      <td>0.303029</td>\n",
              "      <td>0.263157</td>\n",
              "      <td>0.0</td>\n",
              "      <td>0.0</td>\n",
              "    </tr>\n",
              "    <tr>\n",
              "      <th>1</th>\n",
              "      <td>Ubuntu and Ruby version ruby ubuntu version bu...</td>\n",
              "      <td>Installing RVM (Ruby Version Manager) ruby som...</td>\n",
              "      <td>1</td>\n",
              "      <td>0.181817</td>\n",
              "      <td>0.044444</td>\n",
              "      <td>0.00000</td>\n",
              "      <td>0.000000</td>\n",
              "      <td>0.111110</td>\n",
              "      <td>0.038461</td>\n",
              "      <td>0.0</td>\n",
              "      <td>0.0</td>\n",
              "    </tr>\n",
              "    <tr>\n",
              "      <th>2</th>\n",
              "      <td>Printing from a Windows Service c# printing wi...</td>\n",
              "      <td>Printing from a .NET Service c# .net windows-s...</td>\n",
              "      <td>1</td>\n",
              "      <td>0.349998</td>\n",
              "      <td>0.155555</td>\n",
              "      <td>0.99995</td>\n",
              "      <td>0.999950</td>\n",
              "      <td>0.409089</td>\n",
              "      <td>0.176470</td>\n",
              "      <td>0.0</td>\n",
              "      <td>1.0</td>\n",
              "    </tr>\n",
              "    <tr>\n",
              "      <th>3</th>\n",
              "      <td>Can a file be opened simultaneously under SIlv...</td>\n",
              "      <td>issue reading in data c++ fstream trouble read...</td>\n",
              "      <td>0</td>\n",
              "      <td>0.076923</td>\n",
              "      <td>0.054054</td>\n",
              "      <td>0.00000</td>\n",
              "      <td>0.000000</td>\n",
              "      <td>0.052631</td>\n",
              "      <td>0.038461</td>\n",
              "      <td>0.0</td>\n",
              "      <td>0.0</td>\n",
              "    </tr>\n",
              "    <tr>\n",
              "      <th>4</th>\n",
              "      <td>Nested foreach in PHP produces different resul...</td>\n",
              "      <td>Renaming project directory in VS 2010 visual-s...</td>\n",
              "      <td>0</td>\n",
              "      <td>0.047619</td>\n",
              "      <td>0.031250</td>\n",
              "      <td>0.99990</td>\n",
              "      <td>0.499975</td>\n",
              "      <td>0.068965</td>\n",
              "      <td>0.038461</td>\n",
              "      <td>0.0</td>\n",
              "      <td>0.0</td>\n",
              "    </tr>\n",
              "  </tbody>\n",
              "</table>\n",
              "</div>\n",
              "      <button class=\"colab-df-convert\" onclick=\"convertToInteractive('df-21b61e3d-40e3-4d17-99e8-33ee24298ed7')\"\n",
              "              title=\"Convert this dataframe to an interactive table.\"\n",
              "              style=\"display:none;\">\n",
              "        \n",
              "  <svg xmlns=\"http://www.w3.org/2000/svg\" height=\"24px\"viewBox=\"0 0 24 24\"\n",
              "       width=\"24px\">\n",
              "    <path d=\"M0 0h24v24H0V0z\" fill=\"none\"/>\n",
              "    <path d=\"M18.56 5.44l.94 2.06.94-2.06 2.06-.94-2.06-.94-.94-2.06-.94 2.06-2.06.94zm-11 1L8.5 8.5l.94-2.06 2.06-.94-2.06-.94L8.5 2.5l-.94 2.06-2.06.94zm10 10l.94 2.06.94-2.06 2.06-.94-2.06-.94-.94-2.06-.94 2.06-2.06.94z\"/><path d=\"M17.41 7.96l-1.37-1.37c-.4-.4-.92-.59-1.43-.59-.52 0-1.04.2-1.43.59L10.3 9.45l-7.72 7.72c-.78.78-.78 2.05 0 2.83L4 21.41c.39.39.9.59 1.41.59.51 0 1.02-.2 1.41-.59l7.78-7.78 2.81-2.81c.8-.78.8-2.07 0-2.86zM5.41 20L4 18.59l7.72-7.72 1.47 1.35L5.41 20z\"/>\n",
              "  </svg>\n",
              "      </button>\n",
              "      \n",
              "  <style>\n",
              "    .colab-df-container {\n",
              "      display:flex;\n",
              "      flex-wrap:wrap;\n",
              "      gap: 12px;\n",
              "    }\n",
              "\n",
              "    .colab-df-convert {\n",
              "      background-color: #E8F0FE;\n",
              "      border: none;\n",
              "      border-radius: 50%;\n",
              "      cursor: pointer;\n",
              "      display: none;\n",
              "      fill: #1967D2;\n",
              "      height: 32px;\n",
              "      padding: 0 0 0 0;\n",
              "      width: 32px;\n",
              "    }\n",
              "\n",
              "    .colab-df-convert:hover {\n",
              "      background-color: #E2EBFA;\n",
              "      box-shadow: 0px 1px 2px rgba(60, 64, 67, 0.3), 0px 1px 3px 1px rgba(60, 64, 67, 0.15);\n",
              "      fill: #174EA6;\n",
              "    }\n",
              "\n",
              "    [theme=dark] .colab-df-convert {\n",
              "      background-color: #3B4455;\n",
              "      fill: #D2E3FC;\n",
              "    }\n",
              "\n",
              "    [theme=dark] .colab-df-convert:hover {\n",
              "      background-color: #434B5C;\n",
              "      box-shadow: 0px 1px 3px 1px rgba(0, 0, 0, 0.15);\n",
              "      filter: drop-shadow(0px 1px 2px rgba(0, 0, 0, 0.3));\n",
              "      fill: #FFFFFF;\n",
              "    }\n",
              "  </style>\n",
              "\n",
              "      <script>\n",
              "        const buttonEl =\n",
              "          document.querySelector('#df-21b61e3d-40e3-4d17-99e8-33ee24298ed7 button.colab-df-convert');\n",
              "        buttonEl.style.display =\n",
              "          google.colab.kernel.accessAllowed ? 'block' : 'none';\n",
              "\n",
              "        async function convertToInteractive(key) {\n",
              "          const element = document.querySelector('#df-21b61e3d-40e3-4d17-99e8-33ee24298ed7');\n",
              "          const dataTable =\n",
              "            await google.colab.kernel.invokeFunction('convertToInteractive',\n",
              "                                                     [key], {});\n",
              "          if (!dataTable) return;\n",
              "\n",
              "          const docLinkHtml = 'Like what you see? Visit the ' +\n",
              "            '<a target=\"_blank\" href=https://colab.research.google.com/notebooks/data_table.ipynb>data table notebook</a>'\n",
              "            + ' to learn more about interactive tables.';\n",
              "          element.innerHTML = '';\n",
              "          dataTable['output_type'] = 'display_data';\n",
              "          await google.colab.output.renderOutput(dataTable, element);\n",
              "          const docLink = document.createElement('div');\n",
              "          docLink.innerHTML = docLinkHtml;\n",
              "          element.appendChild(docLink);\n",
              "        }\n",
              "      </script>\n",
              "    </div>\n",
              "  </div>\n",
              "  "
            ]
          },
          "metadata": {},
          "execution_count": 19
        }
      ]
    },
    {
      "cell_type": "code",
      "source": [
        "from keras.preprocessing.text import Tokenizer\n",
        "MAX_NB_WORDS = 200000\n",
        "tokenizer = Tokenizer(num_words = MAX_NB_WORDS)\n",
        "tokenizer.fit_on_texts(list(df['question1'].values.astype(str))+list(df['question2'].values.astype(str)))"
      ],
      "metadata": {
        "id": "Y-e4oXR9jPae"
      },
      "execution_count": 3,
      "outputs": []
    },
    {
      "cell_type": "code",
      "source": [],
      "metadata": {
        "id": "iely5Hhu-_Yv"
      },
      "execution_count": null,
      "outputs": []
    },
    {
      "cell_type": "code",
      "source": [
        "train_q1 = tokenizer.texts_to_sequences(df['question1'].values.astype(str))\n",
        "train_q2 = tokenizer.texts_to_sequences(df['question2'].values.astype(str))\n",
        "train_y = df['is_duplicate']"
      ],
      "metadata": {
        "id": "f2o6ufurjTTu"
      },
      "execution_count": 5,
      "outputs": []
    },
    {
      "cell_type": "code",
      "source": [
        "from keras.utils import pad_sequences\n",
        "\n",
        "train_q1 = pad_sequences(train_q1, maxlen = 30, padding='post')\n",
        "train_q2 = pad_sequences(train_q2, maxlen = 30, padding='post')"
      ],
      "metadata": {
        "id": "57zdJJN4mCZZ"
      },
      "execution_count": 7,
      "outputs": []
    },
    {
      "cell_type": "code",
      "source": [
        "from sklearn.model_selection import train_test_split\n",
        "\n",
        "X_train_q1,X_valid_q1,X_train_q2, X_valid_q2, y_train, y_valid = train_test_split(train_q1, train_q2, train_y, test_size=0.20, random_state=101)"
      ],
      "metadata": {
        "id": "ach__I4LncXd"
      },
      "execution_count": 8,
      "outputs": []
    },
    {
      "cell_type": "code",
      "source": [
        "X_train_q1.shape"
      ],
      "metadata": {
        "colab": {
          "base_uri": "https://localhost:8080/"
        },
        "id": "vTY2CqISmFOV",
        "outputId": "91b90a11-95e1-4976-d79b-b7ce6d38a0cf"
      },
      "execution_count": 9,
      "outputs": [
        {
          "output_type": "execute_result",
          "data": {
            "text/plain": [
              "(318820, 30)"
            ]
          },
          "metadata": {},
          "execution_count": 9
        }
      ]
    },
    {
      "cell_type": "code",
      "source": [
        "word_index = tokenizer.word_index"
      ],
      "metadata": {
        "id": "MG8aUqSZm755"
      },
      "execution_count": 10,
      "outputs": []
    },
    {
      "cell_type": "code",
      "source": [
        "import numpy as np\n",
        "\n",
        "embedding_index = {}\n",
        "with open('/content/drive/MyDrive/unzipped/glove.6B.200d.txt','r') as f:\n",
        "    for line in f:\n",
        "        values = line.split()\n",
        "        word = values[0]\n",
        "        vectors = np.asarray(values[1:], 'float32')\n",
        "        embedding_index[word] = vectors\n",
        "    f.close()"
      ],
      "metadata": {
        "id": "A7ATZxjznDH5"
      },
      "execution_count": 14,
      "outputs": []
    },
    {
      "cell_type": "code",
      "source": [
        "embedding_matrix = np.random.random((len(word_index)+1, 200))\n",
        "for word, i in word_index.items():\n",
        "    embedding_vector = embedding_index.get(word)\n",
        "    if embedding_vector is not None:\n",
        "        embedding_matrix[i] = embedding_vector"
      ],
      "metadata": {
        "id": "0mkGOlRHAzTi"
      },
      "execution_count": 15,
      "outputs": []
    },
    {
      "cell_type": "code",
      "source": [
        "# Model for Q1\n",
        "import tensorflow as tf\n",
        "from tensorflow.keras.layers import BatchNormalization\n",
        "from tensorflow.keras.layers import Embedding,LSTM, Dense, Dropout, multiply, Flatten\n",
        "\n",
        "model_q1 = tf.keras.Sequential()\n",
        "model_q1.add(Embedding(input_dim = len(word_index)+1,\n",
        "                       output_dim = 200,\n",
        "                      weights = [embedding_matrix],\n",
        "                      input_length = 30))\n",
        "model_q1.add(LSTM(128, activation = 'tanh', return_sequences = True))\n",
        "model_q1.add(Dropout(0.2))\n",
        "model_q1.add(LSTM(128, return_sequences = True))\n",
        "model_q1.add(LSTM(128))\n",
        "model_q1.add(Dense(60, activation = 'tanh'))\n",
        "model_q1.add(Dense(1, activation = 'sigmoid'))"
      ],
      "metadata": {
        "id": "5VPQNC5YD2bd"
      },
      "execution_count": 28,
      "outputs": []
    },
    {
      "cell_type": "code",
      "source": [
        "# Model for Q2\n",
        "model_q2 = tf.keras.Sequential()\n",
        "model_q2.add(Embedding(input_dim = len(word_index)+1,\n",
        "                       output_dim = 200,\n",
        "                      weights = [embedding_matrix],\n",
        "                      input_length = 30))\n",
        "model_q2.add(LSTM(128, activation = 'tanh', return_sequences = True))\n",
        "model_q2.add(Dropout(0.2))\n",
        "model_q2.add(LSTM(128, return_sequences = True))\n",
        "model_q2.add(LSTM(128))\n",
        "model_q2.add(Dense(60, activation = 'tanh'))\n",
        "model_q2.add(Dense(1, activation = 'sigmoid'))"
      ],
      "metadata": {
        "id": "JZySCW5gEYMX"
      },
      "execution_count": 29,
      "outputs": []
    },
    {
      "cell_type": "code",
      "source": [
        "# Merging the output of the two models,i.e, model_q1 and model_q2\n",
        "mergedOut = multiply([model_q1.output, model_q2.output])\n",
        "\n",
        "mergedOut = Flatten()(mergedOut)\n",
        "mergedOut = Dense(100, activation = 'relu')(mergedOut)\n",
        "mergedOut = Dropout(0.2)(mergedOut)\n",
        "mergedOut = Dense(50, activation = 'relu')(mergedOut)\n",
        "mergedOut = Dropout(0.2)(mergedOut)\n",
        "mergedOut = Dense(1, activation = 'sigmoid')(mergedOut)"
      ],
      "metadata": {
        "id": "8qITsR4_EdGM"
      },
      "execution_count": 33,
      "outputs": []
    },
    {
      "cell_type": "code",
      "source": [
        "lstm_model = tf.keras.Model([model_q1.input, model_q2.input], mergedOut)\n",
        "lstm_model.compile(optimizer = 'adam', loss = 'binary_crossentropy',metrics = ['accuracy'])\n",
        "\n",
        "\n",
        "history = lstm_model.fit([X_train_q1,X_train_q2],y_train, batch_size = 2000, epochs = 10, validation_data=([X_valid_q1,X_valid_q2],y_valid))"
      ],
      "metadata": {
        "colab": {
          "base_uri": "https://localhost:8080/"
        },
        "id": "D-TkU22MEfhg",
        "outputId": "45009636-23eb-4de9-eb69-0c90fa261273"
      },
      "execution_count": 34,
      "outputs": [
        {
          "output_type": "stream",
          "name": "stdout",
          "text": [
            "Epoch 1/10\n",
            "160/160 [==============================] - 40s 182ms/step - loss: 0.6484 - accuracy: 0.6266 - val_loss: 0.6028 - val_accuracy: 0.6925\n",
            "Epoch 2/10\n",
            "160/160 [==============================] - 22s 137ms/step - loss: 0.5559 - accuracy: 0.7206 - val_loss: 0.5353 - val_accuracy: 0.7304\n",
            "Epoch 3/10\n",
            "160/160 [==============================] - 18s 114ms/step - loss: 0.5030 - accuracy: 0.7606 - val_loss: 0.5272 - val_accuracy: 0.7422\n",
            "Epoch 4/10\n",
            "160/160 [==============================] - 14s 88ms/step - loss: 0.4554 - accuracy: 0.7942 - val_loss: 0.5260 - val_accuracy: 0.7441\n",
            "Epoch 5/10\n",
            "160/160 [==============================] - 10s 65ms/step - loss: 0.4109 - accuracy: 0.8215 - val_loss: 0.5321 - val_accuracy: 0.7462\n",
            "Epoch 6/10\n",
            "160/160 [==============================] - 11s 70ms/step - loss: 0.3730 - accuracy: 0.8438 - val_loss: 0.5418 - val_accuracy: 0.7499\n",
            "Epoch 7/10\n",
            "160/160 [==============================] - 11s 69ms/step - loss: 0.3404 - accuracy: 0.8612 - val_loss: 0.5653 - val_accuracy: 0.7485\n",
            "Epoch 8/10\n",
            "160/160 [==============================] - 10s 60ms/step - loss: 0.3145 - accuracy: 0.8743 - val_loss: 0.5971 - val_accuracy: 0.7451\n",
            "Epoch 9/10\n",
            "160/160 [==============================] - 8s 52ms/step - loss: 0.2922 - accuracy: 0.8859 - val_loss: 0.6338 - val_accuracy: 0.7473\n",
            "Epoch 10/10\n",
            "160/160 [==============================] - 7s 44ms/step - loss: 0.2727 - accuracy: 0.8949 - val_loss: 0.6689 - val_accuracy: 0.7458\n"
          ]
        }
      ]
    },
    {
      "cell_type": "code",
      "source": [
        "import tensorflow as tf\n",
        "from tensorflow.keras.layers import Input, Dense, Embedding, Dropout, LSTM, Bidirectional, concatenate\n",
        "from tensorflow.keras.models import Model\n",
        "from tensorflow.keras.optimizers import Adam\n",
        "\n",
        "def create_model(vocab_size, max_length):\n",
        "    input_1 = Input(shape=(max_length,))\n",
        "    input_2 = Input(shape=(max_length,))\n",
        "\n",
        "    embedding_layer = Embedding(vocab_size, 300, input_length=max_length)\n",
        "\n",
        "    # encode question 1\n",
        "    x1 = embedding_layer(input_1)\n",
        "    x1 = Bidirectional(LSTM(128, return_sequences=True))(x1)\n",
        "    x1 = Dropout(0.2)(x1)\n",
        "    x1 = Bidirectional(LSTM(64))(x1)\n",
        "    x1 = Dropout(0.2)(x1)\n",
        "\n",
        "    # encode question 2\n",
        "    x2 = embedding_layer(input_2)\n",
        "    x2 = Bidirectional(LSTM(128, return_sequences=True))(x2)\n",
        "    x2 = Dropout(0.2)(x2)\n",
        "    x2 = Bidirectional(LSTM(64))(x2)\n",
        "    x2 = Dropout(0.2)(x2)\n",
        "\n",
        "    # concatenate encoded questions and process with dense layers\n",
        "    concatenated = concatenate([x1, x2])\n",
        "    dense_1 = Dense(128, activation='relu')(concatenated)\n",
        "    dense_1 = Dropout(0.2)(dense_1)\n",
        "    dense_2 = Dense(64, activation='relu')(dense_1)\n",
        "    dense_2 = Dropout(0.2)(dense_2)\n",
        "    dense_3 = Dense(32, activation='relu')(dense_2)\n",
        "    dense_3 = Dropout(0.2)(dense_3)\n",
        "\n",
        "    output = Dense(1, activation='sigmoid')(dense_3)\n",
        "\n",
        "    model = Model(inputs=[input_1, input_2], outputs=output)\n",
        "    optimizer = Adam(learning_rate=0.0005)\n",
        "    model.compile(loss='binary_crossentropy', optimizer=optimizer, metrics=['accuracy'])\n",
        "\n",
        "    return model"
      ],
      "metadata": {
        "id": "BMwoTMSDFT0v"
      },
      "execution_count": 35,
      "outputs": []
    },
    {
      "cell_type": "code",
      "source": [
        "bi_lstm_model = create_model(len(word_index)+1,30)"
      ],
      "metadata": {
        "id": "wDTqPoHZLzvt"
      },
      "execution_count": 38,
      "outputs": []
    },
    {
      "cell_type": "code",
      "source": [
        "history = bi_lstm_model.fit([X_train_q1,X_train_q2],y_train, batch_size = 2000, epochs = 10, validation_data=([X_valid_q1,X_valid_q2],y_valid))"
      ],
      "metadata": {
        "colab": {
          "base_uri": "https://localhost:8080/"
        },
        "id": "zXzmwfBkMahT",
        "outputId": "fffddc8f-f990-48ef-87b2-3cfa70b670f5"
      },
      "execution_count": null,
      "outputs": [
        {
          "output_type": "stream",
          "name": "stdout",
          "text": [
            "Epoch 1/10\n",
            "160/160 [==============================] - ETA: 0s - loss: 0.5859 - accuracy: 0.6821"
          ]
        }
      ]
    },
    {
      "cell_type": "code",
      "source": [],
      "metadata": {
        "id": "5eJOPvvfMu1i"
      },
      "execution_count": null,
      "outputs": []
    }
  ]
}